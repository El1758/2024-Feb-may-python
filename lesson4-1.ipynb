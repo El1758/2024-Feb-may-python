{
 "cells": [
  {
   "cell_type": "markdown",
   "metadata": {},
   "source": []
  },
  {
   "cell_type": "code",
   "execution_count": null,
   "metadata": {},
   "outputs": [],
   "source": [
    "#求直角三角形的角度\n",
    "import math\n",
    "side = eval(input('請輸入斜邊'))\n",
    "another = eval(input('請輸入對邊'))\n",
    "radian = math.asin(another/side)\n",
    "degree = math.degrees(radian)\n",
    "\n",
    "print(f'斜邊:{side},對邊:{another}')\n",
    "print(f'三角形的角度是{degree:.2f}')"
   ]
  }
 ],
 "metadata": {
  "language_info": {
   "name": "python"
  }
 },
 "nbformat": 4,
 "nbformat_minor": 2
}
